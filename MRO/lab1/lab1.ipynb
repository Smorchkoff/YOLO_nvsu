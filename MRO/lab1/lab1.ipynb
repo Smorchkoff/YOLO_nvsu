{
 "cells": [
  {
   "metadata": {},
   "cell_type": "markdown",
   "source": "## 1. Импорт библиотеки OpenCV",
   "id": "f7c00f3cdd84f7b4"
  },
  {
   "cell_type": "code",
   "id": "initial_id",
   "metadata": {
    "collapsed": true,
    "ExecuteTime": {
     "end_time": "2025-02-10T15:31:10.615624Z",
     "start_time": "2025-02-10T15:31:10.611601Z"
    }
   },
   "source": [
    "import cv2 as cv\n",
    "import numpy as np"
   ],
   "outputs": [],
   "execution_count": 11
  },
  {
   "metadata": {},
   "cell_type": "markdown",
   "source": "## 2. Загрузка, отображение и сохранение изображения",
   "id": "3eb65d642717d440"
  },
  {
   "metadata": {
    "ExecuteTime": {
     "end_time": "2025-02-10T15:31:12.743811Z",
     "start_time": "2025-02-10T15:31:10.621659Z"
    }
   },
   "cell_type": "code",
   "source": [
    "img = cv.imread('cat.jpg')\n",
    "cv.imshow('image', img)\n",
    "cv.waitKey(0)\n",
    "cv.destroyAllWindows()\n",
    "cv.imwrite('selected_cat.jpg', img)"
   ],
   "id": "bfbd8689245ef018",
   "outputs": [
    {
     "data": {
      "text/plain": [
       "True"
      ]
     },
     "execution_count": 12,
     "metadata": {},
     "output_type": "execute_result"
    }
   ],
   "execution_count": 12
  },
  {
   "metadata": {},
   "cell_type": "markdown",
   "source": "## 3. Доступ к пикселям и манипулирование ими",
   "id": "6960c54fd8d3528c"
  },
  {
   "metadata": {
    "ExecuteTime": {
     "end_time": "2025-02-10T15:31:12.772834Z",
     "start_time": "2025-02-10T15:31:12.762209Z"
    }
   },
   "cell_type": "code",
   "source": [
    "print(f\"\"\"\n",
    "Высота: {str(img.shape[0])}\n",
    "Ширина: {str(img.shape[1])}\n",
    "Кол-во каналов: {str(img.shape[2])}\"\"\")\n",
    "(b, g, r) = img[0,0]\n",
    "print(f'Красный: {r}, Зеленый: {g}, Синий: {b}')\n",
    "img[0,0] = (0,0,255)\n",
    "(b,g,r) = img[0,0]\n",
    "print(f'Красный: {r}, Зеленый: {g}, Синий: {b}')\n",
    "cv.imwrite('edited_cat.jpg', img)\n"
   ],
   "id": "c6cd116b2d47046b",
   "outputs": [
    {
     "name": "stdout",
     "output_type": "stream",
     "text": [
      "\n",
      "        Высота: 720\n",
      "        Ширина: 1280\n",
      "        Кол-во каналов: 3\n",
      "Красный: 185, Зеленый: 218, Синий: 251\n",
      "Красный: 255, Зеленый: 0, Синий: 0\n"
     ]
    },
    {
     "data": {
      "text/plain": [
       "True"
      ]
     },
     "execution_count": 13,
     "metadata": {},
     "output_type": "execute_result"
    }
   ],
   "execution_count": 13
  },
  {
   "metadata": {},
   "cell_type": "markdown",
   "source": "## 4. Изменение размера изображения",
   "id": "67373f60347d85d8"
  },
  {
   "metadata": {
    "ExecuteTime": {
     "end_time": "2025-02-10T15:31:12.801100Z",
     "start_time": "2025-02-10T15:31:12.792985Z"
    }
   },
   "cell_type": "code",
   "source": [
    "res_img = cv.resize(img, (200, 180), interpolation=cv.INTER_NEAREST)\n",
    "cv.imwrite('res_cat.jpg',res_img)\n"
   ],
   "id": "20b4c983858caa82",
   "outputs": [
    {
     "data": {
      "text/plain": [
       "True"
      ]
     },
     "execution_count": 14,
     "metadata": {},
     "output_type": "execute_result"
    }
   ],
   "execution_count": 14
  },
  {
   "metadata": {},
   "cell_type": "markdown",
   "source": "## 5. Смещение изображения вдоль осей",
   "id": "e95da932d61d78a7"
  },
  {
   "metadata": {
    "ExecuteTime": {
     "end_time": "2025-02-10T15:31:12.858274Z",
     "start_time": "2025-02-10T15:31:12.846709Z"
    }
   },
   "cell_type": "code",
   "source": [
    "h,w = img.shape[:2]\n",
    "translation_matrix = np.float32([[1,0,200],[0,1,300]])\n",
    "dst = cv.warpAffine(img,translation_matrix,(w,h))\n",
    "cv.imwrite('warped_cat.jpg',dst)"
   ],
   "id": "ada71f29f38f667",
   "outputs": [
    {
     "data": {
      "text/plain": [
       "True"
      ]
     },
     "execution_count": 15,
     "metadata": {},
     "output_type": "execute_result"
    }
   ],
   "execution_count": 15
  },
  {
   "metadata": {},
   "cell_type": "markdown",
   "source": "## 6. Вырез фрагмента изображения",
   "id": "fc7984cdf3d3e097"
  },
  {
   "metadata": {
    "ExecuteTime": {
     "end_time": "2025-02-10T15:31:12.948197Z",
     "start_time": "2025-02-10T15:31:12.936628Z"
    }
   },
   "cell_type": "code",
   "source": [
    "crop_img = img[30:500, 400:1000]\n",
    "cv.imwrite('cropped_cat.jpg',crop_img)"
   ],
   "id": "469f3719ddfa8e72",
   "outputs": [
    {
     "data": {
      "text/plain": [
       "True"
      ]
     },
     "execution_count": 16,
     "metadata": {},
     "output_type": "execute_result"
    }
   ],
   "execution_count": 16
  },
  {
   "metadata": {},
   "cell_type": "markdown",
   "source": "## 7. Поворот изображения",
   "id": "8cddf22370e9d506"
  },
  {
   "metadata": {
    "ExecuteTime": {
     "end_time": "2025-02-10T15:35:35.207217Z",
     "start_time": "2025-02-10T15:35:35.195465Z"
    }
   },
   "cell_type": "code",
   "source": [
    "(h,w) = img.shape[:2]\n",
    "center = (int(w/2), int(h/2))\n",
    "rotation_matrix = cv.getRotationMatrix2D(center, 180, 1)\n",
    "rotated_img = cv.warpAffine(img,rotation_matrix,(w,h))\n",
    "cv.imwrite('rotated_cat.jpg',rotated_img)"
   ],
   "id": "c3b0099d6821009b",
   "outputs": [
    {
     "data": {
      "text/plain": [
       "True"
      ]
     },
     "execution_count": 34,
     "metadata": {},
     "output_type": "execute_result"
    }
   ],
   "execution_count": 34
  },
  {
   "metadata": {},
   "cell_type": "markdown",
   "source": [
    "## Контрольные вопросы\n",
    "1. **Какие преобразования называются аффинными? Являются ли они обратимыми?**\\\n",
    "    **Аффинное преобразование (от лат. affinis «соприкасающийся, близкий, смежный»)** — отображение плоскости или пространства в себя, при котором параллельные прямые переходят в параллельные прямые, пересекающиеся — в пересекающиеся, скрещивающиеся — в скрещивающиеся.\\\n",
    "   Преобразование плоскости называется **аффинным**, если оно непрерывно, взаимно-однозначно и образом любой прямой является прямая.\n",
    "   <div style=\"text-align:center;\"> Примеры аффинных образований </div>\n",
    "\n",
    "   ![Поворот оси](https://habrastorage.org/r/w1560/getpro/habr/upload_files/6b7/173/4d2/6b71734d24055b67a5c405d2c725000e.png)\n",
    "   ![Растяжение оси](https://habrastorage.org/r/w1560/getpro/habr/upload_files/0bb/042/8f4/0bb0428f448fa16bd464ec8e013341f0.png)\n",
    "   ![Сдвиг оси](https://habrastorage.org/r/w1560/getpro/habr/upload_files/85e/26e/62e/85e26e62ef21a53b5968eb705980fb92.png)\n",
    "2. **При помощи какой функции производится обрезка изображения? Является ли эта операция обратимой?**\\\n",
    "    С помощью image[y1:y2, x1:x2], где y = координата высоты, а x - ширины изображения.\\\n",
    "    Обрезка изображения является необратимой операцией, если не сохраняется оригинал изображения. Когда вы обрезаете изображение, вы удаляете часть пикселей, и эта информация теряется. Если же вы сохраняете оригинал и работаете с копией, то в этом случае обрезка считается обратимой, так как вы всегда можете вернуться к исходному изображению.\n",
    "\n",
    "3. **В каком порядке записаны в массив цветовые каналы RGB в OpenCV?**\\\n",
    "    Библиотека OpenCV хранит каналы формата RGB в обратном порядке - в порядке синего, зеленого и красного цветов (BGR)\n"
   ],
   "id": "8d29c85f0ba69027"
  },
  {
   "metadata": {},
   "cell_type": "code",
   "outputs": [],
   "execution_count": null,
   "source": "",
   "id": "cfc7bd9615e0c639"
  }
 ],
 "metadata": {
  "kernelspec": {
   "display_name": "Python 3",
   "language": "python",
   "name": "python3"
  },
  "language_info": {
   "codemirror_mode": {
    "name": "ipython",
    "version": 2
   },
   "file_extension": ".py",
   "mimetype": "text/x-python",
   "name": "python",
   "nbconvert_exporter": "python",
   "pygments_lexer": "ipython2",
   "version": "2.7.6"
  }
 },
 "nbformat": 4,
 "nbformat_minor": 5
}
