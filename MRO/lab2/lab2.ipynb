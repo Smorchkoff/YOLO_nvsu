{
 "cells": [
  {
   "metadata": {},
   "cell_type": "code",
   "outputs": [],
   "execution_count": null,
   "source": [
    "import cv2 as cv\n",
    "import numpy as np"
   ],
   "id": "99fd3d7266db884a"
  },
  {
   "metadata": {},
   "cell_type": "markdown",
   "source": "## 1. Разбиение и слияние каналов",
   "id": "309a50859c19e98"
  },
  {
   "metadata": {},
   "cell_type": "code",
   "outputs": [],
   "execution_count": null,
   "source": [
    "image = cv.imread('winter.jpg')\n",
    "b,g,r = cv.split(image)\n",
    "cv.imwrite('blue_winter.jpg',b)\n",
    "cv.imwrite('green_winter.jpg',g)\n",
    "cv.imwrite('red_winter.jpg',r)\n",
    "\n",
    "merge_image = cv.merge([b,g,r])\n",
    "cv.imshow('merged_image', merge_image)\n",
    "cv.imshow('original', image)\n",
    "cv.waitKey(0)"
   ],
   "id": "c59d6f20beb303f1"
  },
  {
   "metadata": {},
   "cell_type": "markdown",
   "source": "## 2. Размытие",
   "id": "1f31c9d3268ee5a2"
  },
  {
   "metadata": {},
   "cell_type": "markdown",
   "source": "### Averaging",
   "id": "5145468b63328e3b"
  },
  {
   "metadata": {},
   "cell_type": "code",
   "outputs": [],
   "execution_count": null,
   "source": [
    "img_blur_3 = cv.blur(image, (3,3))\n",
    "img_blur_7 = cv.blur(image, (7,7))\n",
    "img_blur_11 = cv.blur(image, (11,11))\n",
    "cv.imwrite('avg_blur_image3.jpg', img_blur_3)\n",
    "cv.imwrite('avg_blur_image7.jpg', img_blur_7)\n",
    "cv.imwrite('avg_blur_image11.jpg', img_blur_11)"
   ],
   "id": "d143efa9a22e5f83"
  },
  {
   "metadata": {},
   "cell_type": "markdown",
   "source": "### Gaussian",
   "id": "61c889c104ad487f"
  },
  {
   "metadata": {},
   "cell_type": "code",
   "outputs": [],
   "execution_count": null,
   "source": [
    "img_blur_3g = cv.GaussianBlur(image, (3,3), 0)\n",
    "img_blur_7g = cv.GaussianBlur(image, (7,7), 0)\n",
    "img_blur_11g = cv.GaussianBlur(image, (11,11), 0)\n",
    "cv.imwrite('gaussian_blur_image3.jpg', img_blur_3g)\n",
    "cv.imwrite('gaussian_blur_image7.jpg', img_blur_7g)\n",
    "cv.imwrite('gaussian_blur_image11.jpg', img_blur_11g)"
   ],
   "id": "f89b08804aa1c53e"
  },
  {
   "metadata": {},
   "cell_type": "markdown",
   "source": "### Median",
   "id": "4fadd4b3934259e4"
  },
  {
   "metadata": {},
   "cell_type": "code",
   "outputs": [],
   "execution_count": null,
   "source": [
    "img_blur_3m = cv.medianBlur(image, 3)\n",
    "img_blur_7m = cv.medianBlur(image, 7)\n",
    "img_blur_11m = cv.medianBlur(image, 11)\n",
    "cv.imwrite('median_blur_image3.jpg', img_blur_3m)\n",
    "cv.imwrite('median_blur_image7.jpg', img_blur_7m)\n",
    "cv.imwrite('median_blur_image11.jpg', img_blur_11m)"
   ],
   "id": "57d6070c77f36c93"
  },
  {
   "metadata": {},
   "cell_type": "markdown",
   "source": "",
   "id": "6b2fe634d19e5ea4"
  }
 ],
 "metadata": {},
 "nbformat": 5,
 "nbformat_minor": 9
}
